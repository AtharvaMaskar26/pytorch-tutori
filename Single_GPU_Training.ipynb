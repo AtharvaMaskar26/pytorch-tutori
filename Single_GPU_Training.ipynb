{
  "nbformat": 4,
  "nbformat_minor": 0,
  "metadata": {
    "colab": {
      "provenance": [],
      "gpuType": "T4"
    },
    "kernelspec": {
      "name": "python3",
      "display_name": "Python 3"
    },
    "language_info": {
      "name": "python"
    },
    "accelerator": "GPU"
  },
  "cells": [
    {
      "cell_type": "code",
      "source": [
        "import torch\n",
        "\n",
        "X = torch.randn(1000, 10)\n",
        "y = torch.randint(0, 2, (1000, ))\n",
        "\n",
        "len(y)"
      ],
      "metadata": {
        "colab": {
          "base_uri": "https://localhost:8080/"
        },
        "id": "Q5W2nn1xd_YW",
        "outputId": "edc84ac8-2eca-47f2-afd7-e2653d994876"
      },
      "execution_count": 24,
      "outputs": [
        {
          "output_type": "execute_result",
          "data": {
            "text/plain": [
              "1000"
            ]
          },
          "metadata": {},
          "execution_count": 24
        }
      ]
    },
    {
      "cell_type": "code",
      "source": [
        "# Train Test Split\n",
        "X_train = X[:800]\n",
        "X_val = X[800:900]\n",
        "X_test = X[900:]\n",
        "\n",
        "y_train = y[:800]\n",
        "y_val = y[800:900]\n",
        "y_test = y[900:]"
      ],
      "metadata": {
        "id": "R-9jjFneeUZS"
      },
      "execution_count": 25,
      "outputs": []
    },
    {
      "cell_type": "code",
      "source": [
        "X_train.shape"
      ],
      "metadata": {
        "colab": {
          "base_uri": "https://localhost:8080/"
        },
        "id": "D1doDvqxfR4B",
        "outputId": "51154da9-fc33-462b-d6e5-93895a07e646"
      },
      "execution_count": 27,
      "outputs": [
        {
          "output_type": "execute_result",
          "data": {
            "text/plain": [
              "torch.Size([800, 10])"
            ]
          },
          "metadata": {},
          "execution_count": 27
        }
      ]
    },
    {
      "cell_type": "code",
      "source": [
        "import torch.nn.functional as F\n",
        "from torch.utils.data import DataLoader\n",
        "from torch.utils.data import Dataset\n",
        "\n",
        "class NeuralNetwork(torch.nn.Module):\n",
        "  def __init__(self, input_size, output_size):\n",
        "    super().__init__()\n",
        "\n",
        "    self.layers = torch.nn.Sequential(\n",
        "        torch.nn.Linear(input_size, 100),\n",
        "        torch.nn.ReLU(),\n",
        "\n",
        "        torch.nn.Linear(100, 75),\n",
        "        torch.nn.ReLU(),\n",
        "\n",
        "        torch.nn.Linear(75, 50),\n",
        "        torch.nn.ReLU(),\n",
        "\n",
        "        torch.nn.Linear(50, output_size)\n",
        "    )\n",
        "\n",
        "  def forward(self, x):\n",
        "    return self.layers(x)\n",
        "\n",
        "class FakeDataset(Dataset):\n",
        "  def __init__(self, X, y):\n",
        "    self.X = X\n",
        "    self.y = y\n",
        "\n",
        "  def __getitem__(self, index):\n",
        "    return self.X[index], self.y[index]\n",
        "\n",
        "  def __len__(self):\n",
        "    return len(self.X)\n",
        "\n",
        "train_dataset = FakeDataset(X_train, y_train)\n",
        "train_dataloader = DataLoader(train_dataset, batch_size=2, shuffle=True)\n",
        "\n",
        "val_dataset = FakeDataset(X_val, y_val)\n",
        "val_dataloader = DataLoader(val_dataset, batch_size = 2, shuffle = True)\n",
        "\n",
        "test_dataset = FakeDataset(X_test, y_test)\n",
        "test_dataloader = DataLoader(test_dataset, batch_size=2, shuffle=True)\n",
        "\n",
        "model = NeuralNetwork(10, 2)\n",
        "\n",
        "device = torch.device(\"cuda:0\" if torch.cuda.is_available() else \"cpu\")\n",
        "\n",
        "model.to(device)\n",
        "\n",
        "optimizer = torch.optim.SGD(model.parameters(), lr=0.01)\n",
        "\n",
        "epochs = 100\n",
        "\n",
        "losses = []\n",
        "\n",
        "for epoch in range(epochs):\n",
        "  model.train()\n",
        "\n",
        "  for batch_index, (features, label) in enumerate(train_dataloader):\n",
        "    features, label = features.to(device), label.to(device)\n",
        "\n",
        "    logits = model(features)\n",
        "\n",
        "    loss = F.cross_entropy(logits, label)\n",
        "    losses.append(loss)\n",
        "    optimizer.zero_grad()\n",
        "    loss.backward()\n",
        "    optimizer.step()\n",
        "\n",
        "    # LOGGIN\n",
        "\n",
        "    # print(f\"Epochs: {epoch+1}, Batch: {batch_index+1}, Loss: {loss:.2f}\")\n",
        "  print(f\"Epochs: {epoch+1}, Loss: {loss:.2f}\")\n",
        "\n",
        "def compute_accuracy(model, dataloader):\n",
        "  model = model.eval()\n",
        "\n",
        "  correct = 0.0\n",
        "  total_examples = 0\n",
        "\n",
        "  for idx, (features, labels) in enumerate(dataloader):\n",
        "    with torch.no_grad():\n",
        "      output = model(features)\n",
        "\n",
        "    predictions = torch.argmax(output, dim = 1)\n",
        "\n",
        "    compare = labels == predictions\n",
        "\n",
        "    correct += torch.sum(compare)\n",
        "\n",
        "    total_examples += len(compare)\n",
        "\n",
        "  return (correct / total_examples).item()"
      ],
      "metadata": {
        "colab": {
          "base_uri": "https://localhost:8080/"
        },
        "id": "8JmzLPFRerGT",
        "outputId": "e7e330e3-8240-4658-a102-29412f0bf08e"
      },
      "execution_count": 38,
      "outputs": [
        {
          "output_type": "stream",
          "name": "stdout",
          "text": [
            "Epochs: 1, Loss: 0.69\n",
            "Epochs: 2, Loss: 0.71\n",
            "Epochs: 3, Loss: 0.63\n",
            "Epochs: 4, Loss: 0.71\n",
            "Epochs: 5, Loss: 0.65\n",
            "Epochs: 6, Loss: 0.72\n",
            "Epochs: 7, Loss: 0.65\n",
            "Epochs: 8, Loss: 0.67\n",
            "Epochs: 9, Loss: 0.72\n",
            "Epochs: 10, Loss: 0.71\n",
            "Epochs: 11, Loss: 0.74\n",
            "Epochs: 12, Loss: 0.85\n",
            "Epochs: 13, Loss: 0.66\n",
            "Epochs: 14, Loss: 0.90\n",
            "Epochs: 15, Loss: 0.74\n",
            "Epochs: 16, Loss: 0.84\n",
            "Epochs: 17, Loss: 0.44\n",
            "Epochs: 18, Loss: 0.47\n",
            "Epochs: 19, Loss: 0.61\n",
            "Epochs: 20, Loss: 0.62\n",
            "Epochs: 21, Loss: 0.62\n",
            "Epochs: 22, Loss: 0.37\n",
            "Epochs: 23, Loss: 0.78\n",
            "Epochs: 24, Loss: 1.12\n",
            "Epochs: 25, Loss: 0.21\n",
            "Epochs: 26, Loss: 0.33\n",
            "Epochs: 27, Loss: 0.97\n",
            "Epochs: 28, Loss: 0.46\n",
            "Epochs: 29, Loss: 0.33\n",
            "Epochs: 30, Loss: 0.25\n",
            "Epochs: 31, Loss: 0.42\n",
            "Epochs: 32, Loss: 0.27\n",
            "Epochs: 33, Loss: 0.08\n",
            "Epochs: 34, Loss: 0.18\n",
            "Epochs: 35, Loss: 0.11\n",
            "Epochs: 36, Loss: 0.64\n",
            "Epochs: 37, Loss: 0.31\n",
            "Epochs: 38, Loss: 0.10\n",
            "Epochs: 39, Loss: 0.47\n",
            "Epochs: 40, Loss: 0.08\n",
            "Epochs: 41, Loss: 0.85\n",
            "Epochs: 42, Loss: 0.00\n",
            "Epochs: 43, Loss: 0.17\n",
            "Epochs: 44, Loss: 0.02\n",
            "Epochs: 45, Loss: 0.43\n",
            "Epochs: 46, Loss: 0.44\n",
            "Epochs: 47, Loss: 0.41\n",
            "Epochs: 48, Loss: 0.32\n",
            "Epochs: 49, Loss: 0.44\n",
            "Epochs: 50, Loss: 0.85\n",
            "Epochs: 51, Loss: 0.05\n",
            "Epochs: 52, Loss: 0.14\n",
            "Epochs: 53, Loss: 0.00\n",
            "Epochs: 54, Loss: 0.19\n",
            "Epochs: 55, Loss: 0.01\n",
            "Epochs: 56, Loss: 0.25\n",
            "Epochs: 57, Loss: 0.14\n",
            "Epochs: 58, Loss: 0.27\n",
            "Epochs: 59, Loss: 0.20\n",
            "Epochs: 60, Loss: 0.00\n",
            "Epochs: 61, Loss: 3.24\n",
            "Epochs: 62, Loss: 0.31\n",
            "Epochs: 63, Loss: 0.00\n",
            "Epochs: 64, Loss: 0.36\n",
            "Epochs: 65, Loss: 0.05\n",
            "Epochs: 66, Loss: 0.01\n",
            "Epochs: 67, Loss: 0.03\n",
            "Epochs: 68, Loss: 0.01\n",
            "Epochs: 69, Loss: 0.00\n",
            "Epochs: 70, Loss: 0.00\n",
            "Epochs: 71, Loss: 0.00\n",
            "Epochs: 72, Loss: 0.00\n",
            "Epochs: 73, Loss: 0.01\n",
            "Epochs: 74, Loss: 0.00\n",
            "Epochs: 75, Loss: 0.00\n",
            "Epochs: 76, Loss: 0.00\n",
            "Epochs: 77, Loss: 0.00\n",
            "Epochs: 78, Loss: 0.00\n",
            "Epochs: 79, Loss: 0.00\n",
            "Epochs: 80, Loss: 0.00\n",
            "Epochs: 81, Loss: 0.00\n",
            "Epochs: 82, Loss: 0.00\n",
            "Epochs: 83, Loss: 0.01\n",
            "Epochs: 84, Loss: 0.03\n",
            "Epochs: 85, Loss: 0.01\n",
            "Epochs: 86, Loss: 0.00\n",
            "Epochs: 87, Loss: 0.00\n",
            "Epochs: 88, Loss: 0.00\n",
            "Epochs: 89, Loss: 0.00\n",
            "Epochs: 90, Loss: 0.00\n",
            "Epochs: 91, Loss: 0.00\n",
            "Epochs: 92, Loss: 0.00\n",
            "Epochs: 93, Loss: 0.00\n",
            "Epochs: 94, Loss: 0.02\n",
            "Epochs: 95, Loss: 0.00\n",
            "Epochs: 96, Loss: 0.00\n",
            "Epochs: 97, Loss: 0.00\n",
            "Epochs: 98, Loss: 0.00\n",
            "Epochs: 99, Loss: 0.00\n",
            "Epochs: 100, Loss: 0.00\n"
          ]
        }
      ]
    },
    {
      "cell_type": "code",
      "source": [
        "x = [i for i in range(len(losses))]\n",
        "y = [loss.item() for loss in losses]"
      ],
      "metadata": {
        "id": "wtrUAAHlkBTU"
      },
      "execution_count": 42,
      "outputs": []
    },
    {
      "cell_type": "code",
      "source": [
        "import matplotlib.pyplot as plt\n",
        "\n",
        "plt.plot(y, x)"
      ],
      "metadata": {
        "colab": {
          "base_uri": "https://localhost:8080/",
          "height": 447
        },
        "id": "mRmJFxTKkKJ6",
        "outputId": "2a97ccca-0c28-41a8-8601-a273d9546331"
      },
      "execution_count": 47,
      "outputs": [
        {
          "output_type": "execute_result",
          "data": {
            "text/plain": [
              "[<matplotlib.lines.Line2D at 0x79fde40abbb0>]"
            ]
          },
          "metadata": {},
          "execution_count": 47
        },
        {
          "output_type": "display_data",
          "data": {
            "text/plain": [
              "<Figure size 640x480 with 1 Axes>"
            ],
            "image/png": "[encoded data removed]"
          },
          "metadata": {}
        }
      ]
    },
    {
      "cell_type": "code",
      "source": [
        "compute_accuracy(model, val_dataloader)"
      ],
      "metadata": {
        "colab": {
          "base_uri": "https://localhost:8080/"
        },
        "id": "MNINOptJi1gk",
        "outputId": "460d9c32-25e9-4b62-e7b5-7d520a50509c"
      },
      "execution_count": 35,
      "outputs": [
        {
          "output_type": "execute_result",
          "data": {
            "text/plain": [
              "0.47999998927116394"
            ]
          },
          "metadata": {},
          "execution_count": 35
        }
      ]
    }
  ]
}