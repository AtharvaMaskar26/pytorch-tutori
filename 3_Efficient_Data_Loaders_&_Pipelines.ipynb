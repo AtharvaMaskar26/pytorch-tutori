{
  "nbformat": 4,
  "nbformat_minor": 0,
  "metadata": {
    "colab": {
      "provenance": []
    },
    "kernelspec": {
      "name": "python3",
      "display_name": "Python 3"
    },
    "language_info": {
      "name": "python"
    }
  },
  "cells": [
    {
      "cell_type": "code",
      "execution_count": 1,
      "metadata": {
        "id": "zPO7QpPlHiBl"
      },
      "outputs": [],
      "source": [
        "import torch\n",
        "\n",
        "X_train = torch.tensor([\n",
        "    [-1.2, 3.1],\n",
        "    [-0.9, 2.9],\n",
        "    [-0.5, 2.6],\n",
        "    [2.3, -1.1],\n",
        "    [-2.7, -1.5]\n",
        "])\n",
        "\n",
        "y_train = torch.tensor(\n",
        "    [0, 0, 0, 1, 1]\n",
        ")\n",
        "\n",
        "X_test = torch.tensor([\n",
        "    [-0.8, 2.8],\n",
        "    [2.6, -1.6]\n",
        "])\n",
        "\n",
        "y_test = torch.tensor([0, 1])"
      ]
    },
    {
      "cell_type": "code",
      "source": [
        "from torch.utils.data import Dataset\n",
        "\n",
        "class ToyDataset(Dataset):\n",
        "\n",
        "  def __init__(self, X, y):\n",
        "    self.features = X\n",
        "    self.labels = y\n",
        "\n",
        "  def __getitem__(self, index):\n",
        "    one_x = self.features[index]\n",
        "    one_y = self.labels[index]\n",
        "\n",
        "    return one_x, one_y\n",
        "\n",
        "  def __len__(self):\n",
        "    return self.labels.shape[0]\n",
        "\n",
        "\n",
        "train_ds = ToyDataset(X_train, y_train)\n",
        "test_ds = ToyDataset(X_test, y_test)"
      ],
      "metadata": {
        "id": "7VRaMdGmIFYr"
      },
      "execution_count": 2,
      "outputs": []
    },
    {
      "cell_type": "code",
      "source": [
        "from torch.utils.data import DataLoader\n",
        "\n",
        "torch.manual_seed(123)\n",
        "\n",
        "train_loader = DataLoader(\n",
        "    dataset=train_ds,\n",
        "    batch_size = 2,\n",
        "    shuffle = True,\n",
        "    num_workers = 0,\n",
        "    drop_last = True # If the size of the last batch is different it can cause error in convergence, so we just drop the last in every epoch\n",
        ")\n",
        "\n",
        "test_loader = DataLoader(\n",
        "    dataset=test_ds,\n",
        "    batch_size = 2,\n",
        "    shuffle = False,\n",
        "    num_workers = 0\n",
        ")"
      ],
      "metadata": {
        "id": "NU9S0ARmIpqs"
      },
      "execution_count": 6,
      "outputs": []
    },
    {
      "cell_type": "code",
      "source": [
        "enumerate(train_loader)"
      ],
      "metadata": {
        "colab": {
          "base_uri": "https://localhost:8080/"
        },
        "id": "pt4qm3OPJ3jx",
        "outputId": "f262fa36-70a3-48c8-f4e4-3a433455a4d9"
      },
      "execution_count": 7,
      "outputs": [
        {
          "output_type": "execute_result",
          "data": {
            "text/plain": [
              "<enumerate at 0x7a7acf7e5c80>"
            ]
          },
          "metadata": {},
          "execution_count": 7
        }
      ]
    },
    {
      "cell_type": "code",
      "source": [
        "for idx, (x, y) in enumerate(train_loader):\n",
        "  print(idx)\n",
        "  print(f\"Batch index: {idx+1}:\", x, y)"
      ],
      "metadata": {
        "colab": {
          "base_uri": "https://localhost:8080/"
        },
        "id": "XdD5n5-6JV68",
        "outputId": "93497932-8de4-4e00-9b6a-df7ae6e59e14"
      },
      "execution_count": 8,
      "outputs": [
        {
          "output_type": "stream",
          "name": "stdout",
          "text": [
            "0\n",
            "Batch index: 1: tensor([[-2.7000, -1.5000],\n",
            "        [-0.9000,  2.9000]]) tensor([1, 0])\n",
            "1\n",
            "Batch index: 2: tensor([[ 2.3000, -1.1000],\n",
            "        [-1.2000,  3.1000]]) tensor([1, 0])\n"
          ]
        }
      ]
    },
    {
      "cell_type": "markdown",
      "source": [
        "## Training a Neural Network"
      ],
      "metadata": {
        "id": "wPBANy_rQzip"
      }
    },
    {
      "cell_type": "code",
      "source": [
        "import torch\n",
        "import torch.nn.functional as F\n",
        "\n",
        "class NeuralNetwork(torch.nn.Module):\n",
        "\n",
        "  def __init__(self, input_nums, output_nums):\n",
        "    super().__init__()\n",
        "    self.layers = torch.nn.Sequential(\n",
        "        torch.nn.Linear(input_nums, 10),\n",
        "        torch.nn.ReLU(),\n",
        "\n",
        "        torch.nn.Linear(10, 7),\n",
        "        torch.nn.ReLU(),\n",
        "\n",
        "        torch.nn.Linear(7, 5),\n",
        "        torch.nn.ReLU(),\n",
        "\n",
        "        torch.nn.Linear(5, output_nums)\n",
        "    )\n",
        "\n",
        "  def forward(self, x):\n",
        "    return self.layers(x)\n",
        "\n",
        "model = NeuralNetwork(2, 2)\n",
        "optimizer = torch.optim.SGD(model.parameters(), lr=0.5)\n",
        "\n",
        "num_epochs = 10\n",
        "\n",
        "for epoch in range(num_epochs):\n",
        "\n",
        "  model.train()\n",
        "\n",
        "  for batch_idx, (features, label) in enumerate(train_loader):\n",
        "\n",
        "    # Since we are training here we will need the auto_grad\n",
        "    logits = model(features)\n",
        "\n",
        "    loss = F.cross_entropy(logits, label)\n",
        "\n",
        "    optimizer.zero_grad()\n",
        "    loss.backward()\n",
        "    optimizer.step()\n",
        "\n",
        "    #Logging\n",
        "    print(f\"Epoch: {epoch+1}, Batch: {batch_idx+1}, Train Loss = {loss:.2f}\")"
      ],
      "metadata": {
        "colab": {
          "base_uri": "https://localhost:8080/"
        },
        "id": "gjVn8hLbJjB7",
        "outputId": "8f7f7051-f551-47cb-8aeb-5339c5f7f97d"
      },
      "execution_count": 20,
      "outputs": [
        {
          "output_type": "stream",
          "name": "stdout",
          "text": [
            "Epoch: 1, Batch: 1, Train Loss = 0.73\n",
            "Epoch: 1, Batch: 2, Train Loss = 0.72\n",
            "Epoch: 2, Batch: 1, Train Loss = 0.89\n",
            "Epoch: 2, Batch: 2, Train Loss = 0.86\n",
            "Epoch: 3, Batch: 1, Train Loss = 0.54\n",
            "Epoch: 3, Batch: 2, Train Loss = 0.74\n",
            "Epoch: 4, Batch: 1, Train Loss = 0.67\n",
            "Epoch: 4, Batch: 2, Train Loss = 0.73\n",
            "Epoch: 5, Batch: 1, Train Loss = 0.54\n",
            "Epoch: 5, Batch: 2, Train Loss = 1.05\n",
            "Epoch: 6, Batch: 1, Train Loss = 0.50\n",
            "Epoch: 6, Batch: 2, Train Loss = 0.62\n",
            "Epoch: 7, Batch: 1, Train Loss = 0.44\n",
            "Epoch: 7, Batch: 2, Train Loss = 0.58\n",
            "Epoch: 8, Batch: 1, Train Loss = 0.27\n",
            "Epoch: 8, Batch: 2, Train Loss = 0.29\n",
            "Epoch: 9, Batch: 1, Train Loss = 0.01\n",
            "Epoch: 9, Batch: 2, Train Loss = 0.31\n",
            "Epoch: 10, Batch: 1, Train Loss = 0.12\n",
            "Epoch: 10, Batch: 2, Train Loss = 0.10\n"
          ]
        }
      ]
    },
    {
      "cell_type": "code",
      "source": [
        "num_params = sum(p.numel() for p in model.parameters() if p.requires_grad == True )\n",
        "\n",
        "print(num_params)"
      ],
      "metadata": {
        "colab": {
          "base_uri": "https://localhost:8080/"
        },
        "id": "jIAcnz_ZSS6c",
        "outputId": "8ba4a158-7ebb-4d58-f2a6-4f57d75861ef"
      },
      "execution_count": 21,
      "outputs": [
        {
          "output_type": "stream",
          "name": "stdout",
          "text": [
            "159\n"
          ]
        }
      ]
    },
    {
      "cell_type": "code",
      "source": [
        "# Model evaluation\n",
        "model.eval()\n",
        "\n",
        "with torch.no_grad():\n",
        "  outputs = model(X_train)\n",
        "\n",
        "print(outputs)\n",
        "\n",
        "torch.set_printoptions(sci_mode=False)\n",
        "probs = torch.softmax(outputs, dim=1)\n",
        "\n",
        "print(probs)\n",
        "\n",
        "predictions = torch.argmax(probs, dim=1)\n",
        "\n",
        "\n",
        "print(predictions)"
      ],
      "metadata": {
        "colab": {
          "base_uri": "https://localhost:8080/"
        },
        "id": "sPAkkrC0Sl4x",
        "outputId": "e50e62c1-e047-470d-d2d3-12620fd39363"
      },
      "execution_count": 24,
      "outputs": [
        {
          "output_type": "stream",
          "name": "stdout",
          "text": [
            "tensor([[ 0.6826, -0.9908],\n",
            "        [ 0.6760, -0.9936],\n",
            "        [ 0.6671, -0.9974],\n",
            "        [-2.9177,  1.9537],\n",
            "        [-3.2001,  2.1970]])\n",
            "tensor([[0.8420, 0.1580],\n",
            "        [0.8415, 0.1585],\n",
            "        [0.8408, 0.1592],\n",
            "        [0.0076, 0.9924],\n",
            "        [0.0045, 0.9955]])\n",
            "tensor([0, 0, 0, 1, 1])\n"
          ]
        }
      ]
    },
    {
      "cell_type": "code",
      "source": [
        "def compute_accuracy(model, dataloader):\n",
        "\n",
        "  model = model.eval()\n",
        "  correct = 0.0\n",
        "  total_examples = 0\n",
        "\n",
        "  for idx, (features, labels) in enumerate(dataloader):\n",
        "\n",
        "    with torch.no_grad():\n",
        "      logits = model(features)\n",
        "\n",
        "    logits = torch.softmax(logits, dim=1)\n",
        "\n",
        "    predictions = torch.argmax(logits, dim=1)\n",
        "\n",
        "    compare = labels == predictions\n",
        "\n",
        "    correct += torch.sum(compare)\n",
        "\n",
        "    total_examples += len(compare)\n",
        "\n",
        "  return (correct / total_examples).item()"
      ],
      "metadata": {
        "id": "GYEAKsvlUPlQ"
      },
      "execution_count": 32,
      "outputs": []
    },
    {
      "cell_type": "code",
      "source": [
        "print(compute_accuracy(model, train_loader))"
      ],
      "metadata": {
        "colab": {
          "base_uri": "https://localhost:8080/"
        },
        "id": "c5Yd0hfQVGO6",
        "outputId": "85dfcb53-d25e-4a80-c326-f8d3fd8d927b"
      },
      "execution_count": 33,
      "outputs": [
        {
          "output_type": "stream",
          "name": "stdout",
          "text": [
            "1.0\n"
          ]
        }
      ]
    },
    {
      "cell_type": "code",
      "source": [
        "print(compute_accuracy(model, test_loader))"
      ],
      "metadata": {
        "colab": {
          "base_uri": "https://localhost:8080/"
        },
        "id": "8vPZ7PzXVJRz",
        "outputId": "e20aba68-80ce-42e5-be29-77eb6a0efb9f"
      },
      "execution_count": 34,
      "outputs": [
        {
          "output_type": "stream",
          "name": "stdout",
          "text": [
            "1.0\n"
          ]
        }
      ]
    },
    {
      "cell_type": "code",
      "source": [
        "torch.save(model.state_dict(), \"model.pth\")"
      ],
      "metadata": {
        "id": "5Ml5YVJeVX2F"
      },
      "execution_count": 35,
      "outputs": []
    },
    {
      "cell_type": "code",
      "source": [
        "model1 = model.load_state_dict(torch.load(\"model.pth\"))"
      ],
      "metadata": {
        "colab": {
          "base_uri": "https://localhost:8080/"
        },
        "id": "LDoLzTuAVzRw",
        "outputId": "edbf2c9a-3eab-499e-b92c-19c3a362cdd1"
      },
      "execution_count": 36,
      "outputs": [
        {
          "output_type": "stream",
          "name": "stderr",
          "text": [
            "<ipython-input-36-f49d3d3e6e5c>:1: FutureWarning: You are using `torch.load` with `weights_only=False` (the current default value), which uses the default pickle module implicitly. It is possible to construct malicious pickle data which will execute arbitrary code during unpickling (See https://github.com/pytorch/pytorch/blob/main/SECURITY.md#untrusted-models for more details). In a future release, the default value for `weights_only` will be flipped to `True`. This limits the functions that could be executed during unpickling. Arbitrary objects will no longer be allowed to be loaded via this mode unless they are explicitly allowlisted by the user via `torch.serialization.add_safe_globals`. We recommend you start setting `weights_only=True` for any use case where you don't have full control of the loaded file. Please open an issue on GitHub for any issues related to this experimental feature.\n",
            "  model1 = model.load_state_dict(torch.load(\"model.pth\"))\n"
          ]
        }
      ]
    }
  ]
}