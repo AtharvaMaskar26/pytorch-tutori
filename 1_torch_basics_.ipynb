{
  "nbformat": 4,
  "nbformat_minor": 0,
  "metadata": {
    "colab": {
      "provenance": [],
      "gpuType": "T4"
    },
    "kernelspec": {
      "name": "python3",
      "display_name": "Python 3"
    },
    "language_info": {
      "name": "python"
    },
    "accelerator": "GPU"
  },
  "cells": [
    {
      "cell_type": "markdown",
      "source": [
        "# PyTorch Version"
      ],
      "metadata": {
        "id": "1QXESiExT5R7"
      }
    },
    {
      "cell_type": "code",
      "execution_count": 2,
      "metadata": {
        "colab": {
          "base_uri": "https://localhost:8080/"
        },
        "id": "fivKgR8TTaYT",
        "outputId": "291f1c1a-bc62-4ee4-845c-4316281a9c44"
      },
      "outputs": [
        {
          "output_type": "stream",
          "name": "stdout",
          "text": [
            "True\n"
          ]
        }
      ],
      "source": [
        "import torch\n",
        "\n",
        "torch.__version__\n",
        "\n",
        "print(torch.cuda.is_available())"
      ]
    },
    {
      "cell_type": "markdown",
      "source": [
        "# Understanding Tensors"
      ],
      "metadata": {
        "id": "yX_iYMNVUi-E"
      }
    },
    {
      "cell_type": "code",
      "source": [
        "# 0 Dimensional Tensor (Scalar)\n",
        "tensor0d = torch.tensor(1)\n",
        "\n",
        "# 1 Dimensional Tensor (Vector)\n",
        "tensor1d = torch.tensor([1, 2, 3])\n",
        "\n",
        "# 2 Dimensional Tensor (Matrix)\n",
        "tensor2d = torch.tensor([\n",
        "    [1, 2, 3],\n",
        "    [4, 5, 6],\n",
        "    [7, 8, 9]\n",
        "])\n",
        "\n",
        "# 3 Dimensional Tensor\n",
        "\n",
        "# Note: All of the vectors or matricies should be of the same shape\n",
        "tensor3d = torch.tensor([[\n",
        "    [1, 2, 3],\n",
        "    [4, 5, 6],\n",
        "    [7, 8, 9]\n",
        "],\n",
        "[\n",
        "    [10, 11, 12],\n",
        "    [13, 14, 15],\n",
        "    [16, 17, 18]\n",
        "]])"
      ],
      "metadata": {
        "id": "3nJUpP-BUiav"
      },
      "execution_count": 6,
      "outputs": []
    },
    {
      "cell_type": "code",
      "source": [
        "# Tensor Data types\n",
        "\n",
        "print(tensor1d.dtype)"
      ],
      "metadata": {
        "colab": {
          "base_uri": "https://localhost:8080/"
        },
        "id": "vPBvtoKtT2lt",
        "outputId": "d17d5bc5-6355-444c-f0e9-88daf49a871a"
      },
      "execution_count": 7,
      "outputs": [
        {
          "output_type": "stream",
          "name": "stdout",
          "text": [
            "torch.int64\n"
          ]
        }
      ]
    },
    {
      "cell_type": "code",
      "source": [
        "tensor1d_float32 = tensor1d.to(torch.float32)\n",
        "\n",
        "print(tensor1d_float32, tensor1d_float32.dtype)"
      ],
      "metadata": {
        "colab": {
          "base_uri": "https://localhost:8080/"
        },
        "id": "VAtoQQQAVf02",
        "outputId": "0aa643b6-cb2b-42d1-9649-63cd66923bad"
      },
      "execution_count": 9,
      "outputs": [
        {
          "output_type": "stream",
          "name": "stdout",
          "text": [
            "tensor([1., 2., 3.]) torch.float32\n"
          ]
        }
      ]
    },
    {
      "cell_type": "code",
      "source": [
        "# Common Pytorch operations\n",
        "\n",
        "print(tensor2d.shape)"
      ],
      "metadata": {
        "colab": {
          "base_uri": "https://localhost:8080/"
        },
        "id": "Q9mDwH08Wawn",
        "outputId": "9d722d9d-e1b8-4fd7-a75b-b53edef7ed8e"
      },
      "execution_count": 11,
      "outputs": [
        {
          "output_type": "stream",
          "name": "stdout",
          "text": [
            "torch.Size([3, 3])\n"
          ]
        }
      ]
    },
    {
      "cell_type": "code",
      "source": [
        "tensor2d2 = torch.tensor([\n",
        "    [1, 2, 3],\n",
        "    [4, 5, 6]\n",
        "])\n",
        "\n",
        "print(tensor2d2.shape)\n",
        "\n",
        "# Basically one thumb rule here is that, the product of both the elements should be equal to the number of elements in the tensor\n",
        "print(tensor2d2.view(1, 6))"
      ],
      "metadata": {
        "colab": {
          "base_uri": "https://localhost:8080/"
        },
        "id": "CfXkJ--HW6eO",
        "outputId": "6e23a2ba-2563-4fb0-94c6-bac01ad641e2"
      },
      "execution_count": 18,
      "outputs": [
        {
          "output_type": "stream",
          "name": "stdout",
          "text": [
            "torch.Size([2, 3])\n",
            "tensor([[1, 2, 3, 4, 5, 6]])\n"
          ]
        }
      ]
    },
    {
      "cell_type": "code",
      "source": [],
      "metadata": {
        "id": "5Mw4EYAhXXOY"
      },
      "execution_count": null,
      "outputs": []
    }
  ]
}